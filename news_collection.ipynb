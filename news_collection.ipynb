{
 "cells": [
  {
   "cell_type": "code",
   "execution_count": 1,
   "metadata": {},
   "outputs": [],
   "source": [
    "import requests\n",
    "import json\n",
    "import time\n",
    "from datetime import date, timedelta\n",
    "\n",
    "news_dates = []\n",
    "\n",
    "start_date = date(2019, 6, 9)\n",
    "end_date = date(2019, 6, 30)\n",
    "delta = timedelta(days=1)"
   ]
  },
  {
   "cell_type": "code",
   "execution_count": 2,
   "metadata": {},
   "outputs": [
    {
     "data": {
      "text/plain": [
       "22"
      ]
     },
     "execution_count": 2,
     "metadata": {},
     "output_type": "execute_result"
    }
   ],
   "source": [
    "while start_date <= end_date:\n",
    "    newsdate = start_date.strftime(\"%Y-%m-%d\")\n",
    "    news_dates.append(newsdate)\n",
    "    start_date += delta\n",
    "len (news_dates)"
   ]
  },
  {
   "cell_type": "code",
   "execution_count": 3,
   "metadata": {},
   "outputs": [],
   "source": [
    "# putting everything together\n",
    "query_string1 = \"https://api.newsriver.io/v2/search?query=text%3A%22your topic of interest%22%20AND%20language%3AEN%20AND%20discoverDate%3A%20%5B\"\n",
    "query_string2 = \"%5D&sortBy=_score&sortOrder=DESC&limit=100\"\n",
    "\n",
    "# eventually we'll tell others to put their own API keys in if they wanna run our code\n",
    "api_key = \"your api key from newsriver\"\n",
    "\n",
    "# iterate through the news dates\n",
    "# ended on 11 May on 16 Sep 2019\n",
    "for i in range(len(news_dates[15])):\n",
    "    # use a try-except loop in case errors happen\n",
    "    try:\n",
    "        news_query = str(query_string1+news_dates[i] + \"%20TO%20\"+ news_dates[i+1]+query_string2)\n",
    "        response = requests.get(str(news_query), headers = {\"Authorization\": str(api_key)})\n",
    "        news_json= response.json()\n",
    "        with open(str(news_dates[i]) + 'br.json', 'w') as json_file:\n",
    "            json.dump(news_json, json_file)\n",
    "        time.sleep(901)\n",
    "            \n",
    "    except:\n",
    "        pass"
   ]
  },
  {
   "cell_type": "code",
   "execution_count": null,
   "metadata": {},
   "outputs": [],
   "source": []
  }
 ],
 "metadata": {
  "kernelspec": {
   "display_name": "Python 3",
   "language": "python",
   "name": "python3"
  },
  "language_info": {
   "codemirror_mode": {
    "name": "ipython",
    "version": 3
   },
   "file_extension": ".py",
   "mimetype": "text/x-python",
   "name": "python",
   "nbconvert_exporter": "python",
   "pygments_lexer": "ipython3",
   "version": "3.7.4"
  }
 },
 "nbformat": 4,
 "nbformat_minor": 2
}
